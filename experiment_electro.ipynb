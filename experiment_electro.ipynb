{
 "cells": [
  {
   "cell_type": "code",
   "execution_count": 44,
   "metadata": {},
   "outputs": [],
   "source": [
    "import numpy as np"
   ]
  },
  {
   "cell_type": "code",
   "execution_count": 45,
   "metadata": {},
   "outputs": [],
   "source": [
    "# introduce setting here.\n",
    "time_bin = 1.68E-9\n",
    "wave_length = 155.92E-8\n",
    "h = 6.626069934E-34 # planck constant\n",
    "c = 3E8 # speed of light"
   ]
  },
  {
   "cell_type": "code",
   "execution_count": 46,
   "metadata": {},
   "outputs": [
    {
     "name": "stdout",
     "output_type": "stream",
     "text": [
      "Energy of light is: 1.2748980119291945e-19\n"
     ]
    }
   ],
   "source": [
    "E_light = h*c/wave_length\n",
    "print('Energy of light is:',E_light)"
   ]
  },
  {
   "cell_type": "code",
   "execution_count": 47,
   "metadata": {},
   "outputs": [
    {
     "name": "stdout",
     "output_type": "stream",
     "text": [
      "number of pulse per second is: 654761904.7619048\n"
     ]
    }
   ],
   "source": [
    "Num_pulse = 0.9*(1/time_bin)+0.1*(1/time_bin)*2\n",
    "print('number of pulse per second is:',Num_pulse)"
   ]
  },
  {
   "cell_type": "code",
   "execution_count": 48,
   "metadata": {},
   "outputs": [],
   "source": [
    "import os\n",
    "import pandas as pd\n",
    "import numpy as np\n",
    "import matplotlib.pyplot as plt"
   ]
  },
  {
   "cell_type": "code",
   "execution_count": 49,
   "metadata": {},
   "outputs": [
    {
     "name": "stdout",
     "output_type": "stream",
     "text": [
      "['Mu_1_13.85_dB_QBER.txt', 'Mu_1_19.85_dB_QBER.txt', 'Mu_1_16.85_dB_QBER.txt', 'Mu_1_10.85_dB_QBER.txt', 'Mu_1_31.85_dB_QBER.txt', 'Mu_1_40.85_dB_QBER.txt', 'Mu_1_37.85_dB_QBER.txt', 'Mu_1_22.85_dB_QBER.txt', 'Mu_1_25.85_dB_QBER.txt', 'Mu_1_43.85_dB_QBER.txt', 'Mu_1_28.85_dB_QBER.txt', 'Mu_1_34.85_dB_QBER.txt']\n",
      "['Mu_2_10.85_dB_QBER.txt', 'Mu_2_19.85_dB_QBER.txt', 'Mu_2_16.85_dB_QBER.txt', 'Mu_2_13.85_dB_QBER.txt', 'Mu_2_34.85_dB_QBER.txt', 'Mu_2_28.85_dB_QBER.txt', 'Mu_2_37.85_dB_QBER.txt', 'Mu_2_22.85_dB_QBER.txt', 'Mu_2_25.85_dB_QBER.txt', 'Mu_2_31.85_dB_QBER.txt', 'Mu_2_40.85_dB_QBER.txt']\n"
     ]
    }
   ],
   "source": [
    "files = os.listdir('./exp_data_oct_26/')\n",
    "file_mu1 = []\n",
    "file_mu2 = []\n",
    "for file in files:\n",
    "    if file == 'Formula.txt':\n",
    "        pass\n",
    "    else:\n",
    "        parameter = file.split('_')\n",
    "        if parameter[1]=='1':\n",
    "            file_mu1.append(file)\n",
    "        elif parameter[1]=='2':\n",
    "            file_mu2.append(file)\n",
    "print(file_mu1)\n",
    "print(file_mu2)"
   ]
  },
  {
   "cell_type": "code",
   "execution_count": 53,
   "metadata": {},
   "outputs": [
    {
     "name": "stdout",
     "output_type": "stream",
     "text": [
      "Mu:1,Power:11.85dB\n",
      "data shape:(28, 26)\n",
      "[0.007245 0.007039 0.007197 0.007249 0.007491 0.007306 0.007196 0.007342\n",
      " 0.007542 0.007296 0.007305 0.00764  0.007526 0.007183 0.007405 0.007422\n",
      " 0.007239 0.007348 0.007352 0.007222 0.007289 0.007455 0.007343 0.007376\n",
      " 0.007413 0.007318 0.007545 0.007307]\n"
     ]
    }
   ],
   "source": [
    "for file in file_mu1:\n",
    "    parameter = file.split('_')\n",
    "    print('Mu:{},Power:{}dB'.format(parameter[1],float(parameter[2])-2))\n",
    "    data = pd.read_csv('./exp_data_oct_26/{}'.format(file),sep=';',header=None)\n",
    "    print('data shape:{}'.format(data.shape))\n",
    "    values = data.values\n",
    "    # QBER integrated in 1s calculated by the app on the Z basis counts\n",
    "    # it tells you fraction of wrong bits observed in the Z basis which are in column 5\n",
    "    colume_2 = values[:,1]\n",
    "    print(colume_2)\n",
    "    # Total number of counts in the Z basis (the sum of 0 and 1 outcomes).\n",
    "    colume_5 = values[:,4]\n",
    "        \n",
    "    break\n",
    "        "
   ]
  },
  {
   "cell_type": "code",
   "execution_count": 51,
   "metadata": {},
   "outputs": [
    {
     "name": "stdout",
     "output_type": "stream",
     "text": [
      "(26,)\n"
     ]
    }
   ],
   "source": [
    "print(data.values[0].shape)"
   ]
  },
  {
   "cell_type": "code",
   "execution_count": 52,
   "metadata": {},
   "outputs": [
    {
     "data": {
      "text/plain": [
       "40294.512389213145"
      ]
     },
     "execution_count": 52,
     "metadata": {},
     "output_type": "execute_result"
    }
   ],
   "source": [
    "(1/1.68e-9) * 1.1 * (1 - np.exp(-0.7) ) * 0.0003273 * 0.5 * 0.9 * 0.83"
   ]
  },
  {
   "cell_type": "code",
   "execution_count": null,
   "metadata": {},
   "outputs": [],
   "source": []
  }
 ],
 "metadata": {
  "kernelspec": {
   "display_name": "quantum_test",
   "language": "python",
   "name": "python3"
  },
  "language_info": {
   "codemirror_mode": {
    "name": "ipython",
    "version": 3
   },
   "file_extension": ".py",
   "mimetype": "text/x-python",
   "name": "python",
   "nbconvert_exporter": "python",
   "pygments_lexer": "ipython3",
   "version": "3.10.8"
  }
 },
 "nbformat": 4,
 "nbformat_minor": 2
}
