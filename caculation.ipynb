{
 "cells": [
  {
   "cell_type": "code",
   "execution_count": 7,
   "metadata": {},
   "outputs": [],
   "source": [
    "import numpy as np\n",
    "def caculation_cf(N0,N1,N2,N3,N4,N5,a):\n",
    "    if a == 0:\n",
    "        print('b project in the computational basis')\n",
    "        thai_a  = np.matrix([1,0])\n",
    "    else:\n",
    "        print('b project in the +/- basis')\n",
    "        thai_a = (1/np.sqrt(2))*np.matrix([1,-1])\n",
    "    coeff_z = (N0-N1)/(N0+N1)\n",
    "    coeff_x = (N2-N3)/(N2+N3)\n",
    "    coeff_y = (N4-N5)/(N4+N5)\n",
    "    print('coeff_x:',coeff_x)\n",
    "    print('coeff_y:',coeff_y)\n",
    "    print('coeff_z:',coeff_z)\n",
    "    x = np.matrix([[0,1],[1,0]])\n",
    "    z = np.matrix([[1,0],[0,-1]])\n",
    "    y = 1j*np.dot(x,z)\n",
    "    print('x:',x)\n",
    "    print('Y:',y)\n",
    "    print('z:',z)\n",
    "    result = 1/2*(np.identity(2)+coeff_x*x+coeff_y*y+coeff_z*z)\n",
    "    print('density matrix:',result)\n",
    "    f1 = (thai_a)*result*(thai_a.T)\n",
    "    print('f1:',f1)\n",
    "\n",
    "\n",
    "\n",
    "\n",
    "\n",
    "\n",
    "\n"
   ]
  },
  {
   "cell_type": "code",
   "execution_count": 8,
   "metadata": {},
   "outputs": [
    {
     "name": "stdout",
     "output_type": "stream",
     "text": [
      "b project in the computational basis\n",
      "coeff_x: 0.0\n",
      "coeff_y: 0.0\n",
      "coeff_z: 0.9090909090909091\n",
      "x: [[0 1]\n",
      " [1 0]]\n",
      "Y: [[0.+0.j 0.-1.j]\n",
      " [0.+1.j 0.+0.j]]\n",
      "z: [[ 1  0]\n",
      " [ 0 -1]]\n",
      "density matrix: [[0.95454545+0.j 0.        +0.j]\n",
      " [0.        +0.j 0.04545455+0.j]]\n",
      "f1: [[0.95454545+0.j]]\n"
     ]
    }
   ],
   "source": [
    "# zero state\n",
    "N0 =2100\n",
    "N1 =100\n",
    "N2 =1100 #+\n",
    "N3 =1100 #-\n",
    "N4 =1100 # +i\n",
    "N5 =1100 #-i\n",
    "caculation_cf(N0,N1,N2,N3,N4,N5,0)"
   ]
  },
  {
   "cell_type": "code",
   "execution_count": 9,
   "metadata": {},
   "outputs": [
    {
     "name": "stdout",
     "output_type": "stream",
     "text": [
      "b project in the +/- basis\n",
      "coeff_x: -0.8181818181818182\n",
      "coeff_y: -0.17647058823529413\n",
      "coeff_z: 0.29411764705882354\n",
      "x: [[0 1]\n",
      " [1 0]]\n",
      "Y: [[0.+0.j 0.-1.j]\n",
      " [0.+1.j 0.+0.j]]\n",
      "z: [[ 1  0]\n",
      " [ 0 -1]]\n",
      "density matrix: [[ 0.64705882+0.j         -0.40909091+0.08823529j]\n",
      " [-0.40909091-0.08823529j  0.35294118+0.j        ]]\n",
      "f1: [[0.90909091+1.72011926e-18j]]\n"
     ]
    }
   ],
   "source": [
    "\n",
    "# plus state\n",
    "N0 =1100\n",
    "N1 =600\n",
    "N2 =150 #+\n",
    "N3 =1500 #-\n",
    "N4 =700 # +i\n",
    "N5 =1000 #-i\n",
    "caculation_cf(N0,N1,N2,N3,N4,N5,1)"
   ]
  },
  {
   "cell_type": "code",
   "execution_count": null,
   "metadata": {},
   "outputs": [],
   "source": []
  }
 ],
 "metadata": {
  "kernelspec": {
   "display_name": "quantum_test",
   "language": "python",
   "name": "python3"
  },
  "language_info": {
   "codemirror_mode": {
    "name": "ipython",
    "version": 3
   },
   "file_extension": ".py",
   "mimetype": "text/x-python",
   "name": "python",
   "nbconvert_exporter": "python",
   "pygments_lexer": "ipython3",
   "version": "3.10.8"
  },
  "orig_nbformat": 4
 },
 "nbformat": 4,
 "nbformat_minor": 2
}
