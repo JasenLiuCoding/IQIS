{
 "cells": [
  {
   "cell_type": "code",
   "execution_count": 3,
   "metadata": {},
   "outputs": [
    {
     "name": "stdout",
     "output_type": "stream",
     "text": [
      "2\n"
     ]
    }
   ],
   "source": [
    "import qiskit\n",
    "\n",
    "# Create a Quantum Circuit acting on the q register \n",
    "q = qiskit.QuantumRegister(2)\n",
    "print(q.size)\n",
    "\n",
    "#It works (Y)"
   ]
  },
  {
   "cell_type": "code",
   "execution_count": 1,
   "metadata": {},
   "outputs": [],
   "source": [
    "import numpy as np"
   ]
  },
  {
   "cell_type": "code",
   "execution_count": 4,
   "metadata": {},
   "outputs": [
    {
     "name": "stdout",
     "output_type": "stream",
     "text": [
      "0.8489102140607554\n",
      "1.0\n",
      "0.5435644431995964\n"
     ]
    }
   ],
   "source": [
    "a = (1/16)*(7+np.sqrt(37))\n",
    "b = 1/8\n",
    "c = (1/16)*(7-np.sqrt(37))\n",
    "\n",
    "entr = -a*np.log2(a)-b*np.log2(b)-c*np.log2(c)\n",
    "print(entr)\n",
    "\n",
    "print(-0.5*np.log2(0.5)-0.5*np.log2(0.5))\n",
    "\n",
    "print(-(7/8)*np.log2(7/8)-(1/8)*np.log2(1/8))"
   ]
  }
 ],
 "metadata": {
  "kernelspec": {
   "display_name": "Python 3",
   "language": "python",
   "name": "python3"
  },
  "language_info": {
   "codemirror_mode": {
    "name": "ipython",
    "version": 3
   },
   "file_extension": ".py",
   "mimetype": "text/x-python",
   "name": "python",
   "nbconvert_exporter": "python",
   "pygments_lexer": "ipython3",
   "version": "3.10.4"
  }
 },
 "nbformat": 4,
 "nbformat_minor": 2
}
